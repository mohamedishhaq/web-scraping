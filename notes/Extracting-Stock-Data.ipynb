{
 "cells": [
  {
   "cell_type": "code",
   "execution_count": 3,
   "id": "237bdeec-bd1d-4a0f-bf86-288b87ffc56e",
   "metadata": {},
   "outputs": [
    {
     "name": "stdout",
     "output_type": "stream",
     "text": [
      "Collecting yfinance\n",
      "  Downloading yfinance-0.2.55-py2.py3-none-any.whl.metadata (5.8 kB)\n",
      "Requirement already satisfied: pandas>=1.3.0 in c:\\users\\ishhaq\\anaconda\\lib\\site-packages (from yfinance) (2.2.2)\n",
      "Requirement already satisfied: numpy>=1.16.5 in c:\\users\\ishhaq\\anaconda\\lib\\site-packages (from yfinance) (1.26.4)\n",
      "Requirement already satisfied: requests>=2.31 in c:\\users\\ishhaq\\anaconda\\lib\\site-packages (from yfinance) (2.32.3)\n",
      "Collecting multitasking>=0.0.7 (from yfinance)\n",
      "  Downloading multitasking-0.0.11-py3-none-any.whl.metadata (5.5 kB)\n",
      "Requirement already satisfied: platformdirs>=2.0.0 in c:\\users\\ishhaq\\anaconda\\lib\\site-packages (from yfinance) (3.10.0)\n",
      "Requirement already satisfied: pytz>=2022.5 in c:\\users\\ishhaq\\anaconda\\lib\\site-packages (from yfinance) (2024.1)\n",
      "Requirement already satisfied: frozendict>=2.3.4 in c:\\users\\ishhaq\\anaconda\\lib\\site-packages (from yfinance) (2.4.2)\n",
      "Collecting peewee>=3.16.2 (from yfinance)\n",
      "  Downloading peewee-3.17.9.tar.gz (3.0 MB)\n",
      "     ---------------------------------------- 0.0/3.0 MB ? eta -:--:--\n",
      "     ---------------------------------------- 0.0/3.0 MB ? eta -:--:--\n",
      "     ---------------------------------------- 0.0/3.0 MB ? eta -:--:--\n",
      "     ---------------------------------------- 0.0/3.0 MB ? eta -:--:--\n",
      "     ---------------------------------------- 0.0/3.0 MB ? eta -:--:--\n",
      "     --- ------------------------------------ 0.3/3.0 MB ? eta -:--:--\n",
      "     --- ------------------------------------ 0.3/3.0 MB ? eta -:--:--\n",
      "     --- ------------------------------------ 0.3/3.0 MB ? eta -:--:--\n",
      "     --- ------------------------------------ 0.3/3.0 MB ? eta -:--:--\n",
      "     --- ------------------------------------ 0.3/3.0 MB ? eta -:--:--\n",
      "     --- ------------------------------------ 0.3/3.0 MB ? eta -:--:--\n",
      "     --- ------------------------------------ 0.3/3.0 MB ? eta -:--:--\n",
      "     --- ------------------------------------ 0.3/3.0 MB ? eta -:--:--\n",
      "     --- ------------------------------------ 0.3/3.0 MB ? eta -:--:--\n",
      "     --- ------------------------------------ 0.3/3.0 MB ? eta -:--:--\n",
      "     --- ------------------------------------ 0.3/3.0 MB ? eta -:--:--\n",
      "     --- ------------------------------------ 0.3/3.0 MB ? eta -:--:--\n",
      "     --- ------------------------------------ 0.3/3.0 MB ? eta -:--:--\n",
      "     --- ------------------------------------ 0.3/3.0 MB ? eta -:--:--\n",
      "     ------ --------------------------------- 0.5/3.0 MB 91.7 kB/s eta 0:00:28\n",
      "     ------ --------------------------------- 0.5/3.0 MB 91.7 kB/s eta 0:00:28\n",
      "     ------ --------------------------------- 0.5/3.0 MB 91.7 kB/s eta 0:00:28\n",
      "     ------ --------------------------------- 0.5/3.0 MB 91.7 kB/s eta 0:00:28\n",
      "     ------ --------------------------------- 0.5/3.0 MB 91.7 kB/s eta 0:00:28\n",
      "     ---------- ----------------------------- 0.8/3.0 MB 131.1 kB/s eta 0:00:18\n",
      "     ---------- ----------------------------- 0.8/3.0 MB 131.1 kB/s eta 0:00:18\n",
      "     ---------- ----------------------------- 0.8/3.0 MB 131.1 kB/s eta 0:00:18\n",
      "     ---------- ----------------------------- 0.8/3.0 MB 131.1 kB/s eta 0:00:18\n",
      "     ---------- ----------------------------- 0.8/3.0 MB 131.1 kB/s eta 0:00:18\n",
      "     ---------- ----------------------------- 0.8/3.0 MB 131.1 kB/s eta 0:00:18\n",
      "     ---------- ----------------------------- 0.8/3.0 MB 131.1 kB/s eta 0:00:18\n",
      "     ---------- ----------------------------- 0.8/3.0 MB 131.1 kB/s eta 0:00:18\n",
      "     ---------- ----------------------------- 0.8/3.0 MB 131.1 kB/s eta 0:00:18\n",
      "     ---------- ----------------------------- 0.8/3.0 MB 131.1 kB/s eta 0:00:18\n",
      "     ---------- ----------------------------- 0.8/3.0 MB 131.1 kB/s eta 0:00:18\n",
      "     ---------- ----------------------------- 0.8/3.0 MB 131.1 kB/s eta 0:00:18\n",
      "     ---------- ----------------------------- 0.8/3.0 MB 131.1 kB/s eta 0:00:18\n",
      "     ------------- -------------------------- 1.0/3.0 MB 118.7 kB/s eta 0:00:17\n",
      "     ------------- -------------------------- 1.0/3.0 MB 118.7 kB/s eta 0:00:17\n",
      "     ------------- -------------------------- 1.0/3.0 MB 118.7 kB/s eta 0:00:17\n",
      "     ------------- -------------------------- 1.0/3.0 MB 118.7 kB/s eta 0:00:17\n",
      "     ----------------- ---------------------- 1.3/3.0 MB 138.9 kB/s eta 0:00:13\n",
      "     ----------------- ---------------------- 1.3/3.0 MB 138.9 kB/s eta 0:00:13\n",
      "     ----------------- ---------------------- 1.3/3.0 MB 138.9 kB/s eta 0:00:13\n",
      "     ----------------- ---------------------- 1.3/3.0 MB 138.9 kB/s eta 0:00:13\n",
      "     ----------------- ---------------------- 1.3/3.0 MB 138.9 kB/s eta 0:00:13\n",
      "     ----------------- ---------------------- 1.3/3.0 MB 138.9 kB/s eta 0:00:13\n",
      "     ----------------- ---------------------- 1.3/3.0 MB 138.9 kB/s eta 0:00:13\n",
      "     ----------------- ---------------------- 1.3/3.0 MB 138.9 kB/s eta 0:00:13\n",
      "     ----------------- ---------------------- 1.3/3.0 MB 138.9 kB/s eta 0:00:13\n",
      "     ----------------- ---------------------- 1.3/3.0 MB 138.9 kB/s eta 0:00:13\n",
      "     ----------------- ---------------------- 1.3/3.0 MB 138.9 kB/s eta 0:00:13\n",
      "     -------------------- ------------------- 1.6/3.0 MB 135.7 kB/s eta 0:00:11\n",
      "     -------------------- ------------------- 1.6/3.0 MB 135.7 kB/s eta 0:00:11\n",
      "     -------------------- ------------------- 1.6/3.0 MB 135.7 kB/s eta 0:00:11\n",
      "     -------------------- ------------------- 1.6/3.0 MB 135.7 kB/s eta 0:00:11\n",
      "     -------------------- ------------------- 1.6/3.0 MB 135.7 kB/s eta 0:00:11\n",
      "     ------------------------ --------------- 1.8/3.0 MB 145.3 kB/s eta 0:00:09\n",
      "     ------------------------ --------------- 1.8/3.0 MB 145.3 kB/s eta 0:00:09\n",
      "     ------------------------ --------------- 1.8/3.0 MB 145.3 kB/s eta 0:00:09\n",
      "     ------------------------ --------------- 1.8/3.0 MB 145.3 kB/s eta 0:00:09\n",
      "     ------------------------ --------------- 1.8/3.0 MB 145.3 kB/s eta 0:00:09\n",
      "     ------------------------ --------------- 1.8/3.0 MB 145.3 kB/s eta 0:00:09\n",
      "     ------------------------ --------------- 1.8/3.0 MB 145.3 kB/s eta 0:00:09\n",
      "     --------------------------- ------------ 2.1/3.0 MB 149.4 kB/s eta 0:00:07\n",
      "     --------------------------- ------------ 2.1/3.0 MB 149.4 kB/s eta 0:00:07\n",
      "     --------------------------- ------------ 2.1/3.0 MB 149.4 kB/s eta 0:00:07\n",
      "     --------------------------- ------------ 2.1/3.0 MB 149.4 kB/s eta 0:00:07\n",
      "     --------------------------- ------------ 2.1/3.0 MB 149.4 kB/s eta 0:00:07\n",
      "     --------------------------- ------------ 2.1/3.0 MB 149.4 kB/s eta 0:00:07\n",
      "     --------------------------- ------------ 2.1/3.0 MB 149.4 kB/s eta 0:00:07\n",
      "     --------------------------- ------------ 2.1/3.0 MB 149.4 kB/s eta 0:00:07\n",
      "     ------------------------------- -------- 2.4/3.0 MB 150.3 kB/s eta 0:00:05\n",
      "     ------------------------------- -------- 2.4/3.0 MB 150.3 kB/s eta 0:00:05\n",
      "     ------------------------------- -------- 2.4/3.0 MB 150.3 kB/s eta 0:00:05\n",
      "     ------------------------------- -------- 2.4/3.0 MB 150.3 kB/s eta 0:00:05\n",
      "     ------------------------------- -------- 2.4/3.0 MB 150.3 kB/s eta 0:00:05\n",
      "     ------------------------------- -------- 2.4/3.0 MB 150.3 kB/s eta 0:00:05\n",
      "     ------------------------------- -------- 2.4/3.0 MB 150.3 kB/s eta 0:00:05\n",
      "     ---------------------------------- ----- 2.6/3.0 MB 153.1 kB/s eta 0:00:03\n",
      "     ---------------------------------- ----- 2.6/3.0 MB 153.1 kB/s eta 0:00:03\n",
      "     ---------------------------------- ----- 2.6/3.0 MB 153.1 kB/s eta 0:00:03\n",
      "     ---------------------------------- ----- 2.6/3.0 MB 153.1 kB/s eta 0:00:03\n",
      "     ---------------------------------- ----- 2.6/3.0 MB 153.1 kB/s eta 0:00:03\n",
      "     -------------------------------------- - 2.9/3.0 MB 158.1 kB/s eta 0:00:01\n",
      "     -------------------------------------- - 2.9/3.0 MB 158.1 kB/s eta 0:00:01\n",
      "     ---------------------------------------- 3.0/3.0 MB 164.1 kB/s eta 0:00:00\n",
      "  Installing build dependencies: started\n",
      "  Installing build dependencies: finished with status 'done'\n",
      "  Getting requirements to build wheel: started\n",
      "  Getting requirements to build wheel: finished with status 'done'\n",
      "  Preparing metadata (pyproject.toml): started\n",
      "  Preparing metadata (pyproject.toml): finished with status 'done'\n",
      "Requirement already satisfied: beautifulsoup4>=4.11.1 in c:\\users\\ishhaq\\anaconda\\lib\\site-packages (from yfinance) (4.12.3)\n",
      "Requirement already satisfied: soupsieve>1.2 in c:\\users\\ishhaq\\anaconda\\lib\\site-packages (from beautifulsoup4>=4.11.1->yfinance) (2.5)\n",
      "Requirement already satisfied: python-dateutil>=2.8.2 in c:\\users\\ishhaq\\anaconda\\lib\\site-packages (from pandas>=1.3.0->yfinance) (2.9.0.post0)\n",
      "Requirement already satisfied: tzdata>=2022.7 in c:\\users\\ishhaq\\anaconda\\lib\\site-packages (from pandas>=1.3.0->yfinance) (2023.3)\n",
      "Requirement already satisfied: charset-normalizer<4,>=2 in c:\\users\\ishhaq\\anaconda\\lib\\site-packages (from requests>=2.31->yfinance) (3.3.2)\n",
      "Requirement already satisfied: idna<4,>=2.5 in c:\\users\\ishhaq\\anaconda\\lib\\site-packages (from requests>=2.31->yfinance) (3.7)\n",
      "Requirement already satisfied: urllib3<3,>=1.21.1 in c:\\users\\ishhaq\\anaconda\\lib\\site-packages (from requests>=2.31->yfinance) (2.2.3)\n",
      "Requirement already satisfied: certifi>=2017.4.17 in c:\\users\\ishhaq\\anaconda\\lib\\site-packages (from requests>=2.31->yfinance) (2024.8.30)\n",
      "Requirement already satisfied: six>=1.5 in c:\\users\\ishhaq\\anaconda\\lib\\site-packages (from python-dateutil>=2.8.2->pandas>=1.3.0->yfinance) (1.16.0)\n",
      "Downloading yfinance-0.2.55-py2.py3-none-any.whl (109 kB)\n",
      "Downloading multitasking-0.0.11-py3-none-any.whl (8.5 kB)\n",
      "Building wheels for collected packages: peewee\n",
      "  Building wheel for peewee (pyproject.toml): started\n",
      "  Building wheel for peewee (pyproject.toml): finished with status 'done'\n",
      "  Created wheel for peewee: filename=peewee-3.17.9-py3-none-any.whl size=139127 sha256=d15b91846e7087e3f3a887173309be146d9d74ef08ce59ab531d7c3b415095b9\n",
      "  Stored in directory: c:\\users\\ishhaq\\appdata\\local\\pip\\cache\\wheels\\43\\ef\\2d\\2c51d496bf084945ffdf838b4cc8767b8ba1cc20eb41588831\n",
      "Successfully built peewee\n",
      "Installing collected packages: peewee, multitasking, yfinance\n",
      "Successfully installed multitasking-0.0.11 peewee-3.17.9 yfinance-0.2.55\n",
      "Requirement already satisfied: matplotlib in c:\\users\\ishhaq\\anaconda\\lib\\site-packages (3.9.2)\n",
      "Requirement already satisfied: contourpy>=1.0.1 in c:\\users\\ishhaq\\anaconda\\lib\\site-packages (from matplotlib) (1.2.0)\n",
      "Requirement already satisfied: cycler>=0.10 in c:\\users\\ishhaq\\anaconda\\lib\\site-packages (from matplotlib) (0.11.0)\n",
      "Requirement already satisfied: fonttools>=4.22.0 in c:\\users\\ishhaq\\anaconda\\lib\\site-packages (from matplotlib) (4.51.0)\n",
      "Requirement already satisfied: kiwisolver>=1.3.1 in c:\\users\\ishhaq\\anaconda\\lib\\site-packages (from matplotlib) (1.4.4)\n",
      "Requirement already satisfied: numpy>=1.23 in c:\\users\\ishhaq\\anaconda\\lib\\site-packages (from matplotlib) (1.26.4)\n",
      "Requirement already satisfied: packaging>=20.0 in c:\\users\\ishhaq\\anaconda\\lib\\site-packages (from matplotlib) (24.1)\n",
      "Requirement already satisfied: pillow>=8 in c:\\users\\ishhaq\\anaconda\\lib\\site-packages (from matplotlib) (10.4.0)\n",
      "Requirement already satisfied: pyparsing>=2.3.1 in c:\\users\\ishhaq\\anaconda\\lib\\site-packages (from matplotlib) (3.1.2)\n",
      "Requirement already satisfied: python-dateutil>=2.7 in c:\\users\\ishhaq\\anaconda\\lib\\site-packages (from matplotlib) (2.9.0.post0)\n",
      "Requirement already satisfied: six>=1.5 in c:\\users\\ishhaq\\anaconda\\lib\\site-packages (from python-dateutil>=2.7->matplotlib) (1.16.0)\n"
     ]
    }
   ],
   "source": [
    "!pip install yfinance\n",
    "!pip install matplotlib"
   ]
  },
  {
   "cell_type": "code",
   "execution_count": 4,
   "id": "c3803de5-3c3c-4d7a-9aec-23e7f27aab62",
   "metadata": {},
   "outputs": [],
   "source": [
    "from bs4 import BeautifulSoup\n",
    "import requests\n",
    "import pandas as pd\n",
    "import yfinance as yf"
   ]
  },
  {
   "cell_type": "code",
   "execution_count": 5,
   "id": "aa1b4b69-4dee-4b73-96f1-e346b56cdcc0",
   "metadata": {},
   "outputs": [
    {
     "data": {
      "text/plain": [
       "yfinance.Ticker object <AAPL>"
      ]
     },
     "execution_count": 5,
     "metadata": {},
     "output_type": "execute_result"
    }
   ],
   "source": [
    "apple = yf.Ticker(\"AAPL\")\n",
    "apple"
   ]
  },
  {
   "cell_type": "code",
   "execution_count": 6,
   "id": "d63c8844-a6fd-4c1d-846c-01156ee17539",
   "metadata": {},
   "outputs": [
    {
     "name": "stderr",
     "output_type": "stream",
     "text": [
      "'wget' is not recognized as an internal or external command,\n",
      "operable program or batch file.\n"
     ]
    }
   ],
   "source": [
    "!wget https://cf-courses-data.s3.us.cloud-object-storage.appdomain.cloud/IBMDeveloperSkillsNetwork-PY0220EN-SkillsNetwork/data/apple.json"
   ]
  },
  {
   "cell_type": "code",
   "execution_count": null,
   "id": "59846a6f-dec0-472b-b4cf-d8a2b9bf31ae",
   "metadata": {},
   "outputs": [],
   "source": []
  }
 ],
 "metadata": {
  "kernelspec": {
   "display_name": "Python 3 (ipykernel)",
   "language": "python",
   "name": "python3"
  },
  "language_info": {
   "codemirror_mode": {
    "name": "ipython",
    "version": 3
   },
   "file_extension": ".py",
   "mimetype": "text/x-python",
   "name": "python",
   "nbconvert_exporter": "python",
   "pygments_lexer": "ipython3",
   "version": "3.12.7"
  }
 },
 "nbformat": 4,
 "nbformat_minor": 5
}
